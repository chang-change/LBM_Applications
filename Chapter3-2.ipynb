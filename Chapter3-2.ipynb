{
 "cells": [
  {
   "attachments": {
    "A.1.3.jpg": {
     "image/jpeg": "[encoded data removed]"
    }
   },
   "cell_type": "markdown",
   "metadata": {},
   "source": [
    "# 问题\n",
    "\n",
    "二维正方形平板中，板的初始温度为0，时间$t >= 0$时，$x=0$处的边界受高温，温度为1，其他边界条件不变。域的长度为100，确定$t=400$时，板内的温度分布，并比较LBM与FDM方法的结果。其中，热扩散系数为0.25，格子大小$xl=yl=1.0$。\n",
    "\n",
    "![A.1.3.jpg](attachment:A.1.3.jpg)"
   ]
  },
  {
   "cell_type": "markdown",
   "metadata": {},
   "source": [
    "# A.1.3 The LBM Code (D2Q4)"
   ]
  },
  {
   "cell_type": "code",
   "execution_count": 5,
   "metadata": {},
   "outputs": [],
   "source": [
    "# LBM Code for 2-D, diffusion problem, D2Q4\n",
    "\n",
    "import numpy as np\n",
    "import matplotlib.pyplot as plt\n",
    "% matplotlib inline\n",
    "\n",
    "\n",
    "n = 100\n",
    "m = 100\n",
    "f1 = np.zeros((n+1,m+1),dtype=float)\n",
    "f2 = np.zeros((n+1,m+1),dtype=float)\n",
    "f3 = np.zeros((n+1,m+1),dtype=float)\n",
    "f4 = np.zeros((n+1,m+1),dtype=float)\n",
    "\n",
    "rho = np.zeros((n+1,m+1),dtype=float)\n",
    "x = np.zeros(n+1,dtype=float)\n",
    "y = np.zeros(m+1,dtype=float)\n",
    "\n",
    "dx = 1.0\n",
    "dy = 1.0\n",
    "dt = 1.0\n",
    "x[0] = 0.0\n",
    "y[0] = 0.0\n",
    "\n",
    "for i in range(1,n+1):\n",
    "    x[i] = x[i-1] + dx\n",
    "    \n",
    "for i in range(1,m+1):\n",
    "    y[i] = y[i-1] + dy\n",
    "    \n",
    "csq = dx*dx/(dt*dt)   # problem\n",
    "alpha = 0.25\n",
    "omega = 1.0/(2.*alpha/(dt*csq) + 0.5)\n",
    "mstep = 400\n",
    "\n",
    "# initial values of the dependent variable\n",
    "for j in range(0,m+1):\n",
    "    for i in range(0,n+1):\n",
    "        rho[i,j] = 0.0\n",
    "        \n",
    "for j in range(0,m+1):\n",
    "    for i in range(0,n+1):\n",
    "        f1[i,j] = 0.25*rho[i,j]\n",
    "        f2[i,j] = 0.25*rho[i,j]\n",
    "        f3[i,j] = 0.25*rho[i,j]\n",
    "        f4[i,j] = 0.25*rho[i,j]\n",
    "        \n",
    "# main loop\n",
    "for k in range(1,mstep+1):\n",
    "    # collision process:\n",
    "    for j in range(0,m+1):\n",
    "        for i in range(0,n+1):\n",
    "            feq = 0.25*rho[i,j]\n",
    "            f1[i,j] = omega*feq + (1.-omega)*f1[i,j]\n",
    "            f2[i,j] = omega*feq + (1.-omega)*f2[i,j]\n",
    "            f3[i,j] = omega*feq + (1.-omega)*f3[i,j]\n",
    "            f4[i,j] = omega*feq + (1.-omega)*f4[i,j]\n",
    "            \n",
    "    # streaming process\n",
    "    for j in range(0,m+1):\n",
    "        for i in range(1,n+1):\n",
    "            f1[n-i,j] = f1[n-i-1,j]\n",
    "            f2[i-1,j] = f2[i,j]\n",
    "            \n",
    "    for i in range(0,n+1):\n",
    "        for j in range(1,m+1):\n",
    "            f3[i,m-j] = f3[i,m-j-1]\n",
    "            f4[i,j-1] = f4[i,j]\n",
    "            \n",
    "    # boundary condition\n",
    "    for j in range(1,m+1):\n",
    "        f1[0,j] = 0.5 - f2[0,j]\n",
    "        f3[0,j] = 0.5 - f4[0,j]\n",
    "        f1[n,j] = f1[n-1,j]\n",
    "        f2[n,j] = f2[n-1,j]\n",
    "        f3[n,j] = f3[n-1,j]\n",
    "        f4[n,j] = f4[n-1,j]\n",
    "        \n",
    "    for i in range(1,n+1):\n",
    "        f1[i,m] = 0.0\n",
    "        f2[i,m] = 0.0\n",
    "        f3[i,m] = 0.0\n",
    "        f4[i,m] = 0.0\n",
    "        f1[i,0] = f1[i,1]\n",
    "        f2[i,0] = f2[i,1]\n",
    "        f3[i,0] = f3[i,1]\n",
    "        f4[i,0] = f4[i,1]\n",
    "        \n",
    "    for j in range(0,m+1):\n",
    "        for i in range(0,n+1):\n",
    "            rho[i,j] = f1[i,j] + f2[i,j] + f3[i,j] +f4[i,j]            \n",
    "# end of the main loop"
   ]
  },
  {
   "cell_type": "code",
   "execution_count": 7,
   "metadata": {},
   "outputs": [
    {
     "data": {
      "image/png": "[encoded data removed]",
      "text/plain": [
       "<matplotlib.figure.Figure at 0x10f718048>"
      ]
     },
     "metadata": {},
     "output_type": "display_data"
    }
   ],
   "source": [
    "# plot 2D temperature distribution\n",
    "plt.imshow(rho, interpolation='nearest')\n",
    "plt.show()"
   ]
  },
  {
   "cell_type": "markdown",
   "metadata": {},
   "source": [
    "# A.1.4 The FDM Code (2-D)"
   ]
  },
  {
   "cell_type": "code",
   "execution_count": 12,
   "metadata": {},
   "outputs": [],
   "source": [
    "# FDM Code for 2-D diffusion problem\n",
    "\n",
    "import numpy as np\n",
    "import matplotlib.pyplot as plt\n",
    "% matplotlib inline\n",
    "\n",
    "# initial condition\n",
    "m = 100\n",
    "n = 100\n",
    "f0 = np.zeros((n+1,m+1),dtype=float)\n",
    "f = np.zeros((n+1,m+1),dtype=float)\n",
    "x = np.zeros((n+1,m+1),dtype=float)\n",
    "y = np.zeros((n+1,m+1),dtype=float)\n",
    "tmp = np.ones(n,dtype=float)\n",
    "dx = 1.0\n",
    "dt = 0.2\n",
    "dy = 1.0\n",
    "time = 0.0\n",
    "u = 0.1\n",
    "v = 0.1\n",
    "alpha = 1.0\n",
    "mstep = 400   # the total number of time steps\n",
    "\n",
    "for j in range(0,m+1):\n",
    "    f0[0,j] = 1.0\n",
    "    f[0,j] = 1.0\n",
    "    \n",
    "for i in range(0,n+1):\n",
    "    f0[i,m] = 0.0\n",
    "    f[i,m] = 0.0\n",
    "       \n",
    "# main loop\n",
    "for kk in range(1,mstep+1):\n",
    "    for j in range(1,m):\n",
    "        for i in range(1,n):\n",
    "            termx = (f0[i+1,j] + f0[i-1,j]) / (dx*dx)\n",
    "            termy = (f0[i,j+1] + f0[i,j-1]) / (dy*dy)\n",
    "            dd = 1.0 / (dx*dx) + 1.0 / (dy*dy)\n",
    "            advx = u*(f0[i,j] - f0[i-1,j]) / dx\n",
    "            advy = v*(f0[i,j] - f0[i,j-1]) / dy\n",
    "            advt = dt*(advx +  advy)\n",
    "            f[i,j] = f0[i,j] + dt*alpha*(termx + termy - 2.0*f0[i,j]*dd) - advt\n",
    "            \n",
    "    # boundary condition\n",
    "    for j in range(1,m):\n",
    "        for i in range(1,n):\n",
    "            f0[i,j] = f[i,j]\n",
    "            \n",
    "    # adiabatic bottom boundary\n",
    "    for i in range(0,n+1):\n",
    "        f0[i,0] = f0[i,1]\n",
    "        f[i,0] = f[i,1]\n",
    "        \n",
    "    # adiabatic right boundary\n",
    "    for j in range(0,m+1):\n",
    "        f0[n,j] = 0\n",
    "        f[n,j] = 0"
   ]
  },
  {
   "cell_type": "code",
   "execution_count": 15,
   "metadata": {},
   "outputs": [
    {
     "data": {
      "image/png": "[encoded data removed]",
      "text/plain": [
       "<matplotlib.figure.Figure at 0x117ec1710>"
      ]
     },
     "metadata": {},
     "output_type": "display_data"
    }
   ],
   "source": [
    "# plot 2D temperature distribution\n",
    "plt.imshow(f, interpolation='nearest')\n",
    "plt.show()"
   ]
  },
  {
   "cell_type": "markdown",
   "metadata": {},
   "source": [
    "# A.1.5 The LBM Code (D2Q9)"
   ]
  },
  {
   "cell_type": "code",
   "execution_count": 27,
   "metadata": {},
   "outputs": [],
   "source": [
    "# LBM Code for 2-D diffusion problem,D2Q9\n",
    "\n",
    "import numpy as np\n",
    "import matplotlib.pyplot as plt\n",
    "% matplotlib inline\n",
    "\n",
    "m = 100\n",
    "n = 100\n",
    "f = np.zeros((9,n+1,m+1), dtype=float)\n",
    "rho = np.zeros((n+1,m+1), dtype=float)\n",
    "x = np.zeros((n+1,m+1), dtype=float)\n",
    "y = np.zeros((n+1,m+1), dtype=float)\n",
    "w = np.zeros((9,1), dtype=float)\n",
    "\n",
    "dx = 1.0\n",
    "dy = 1.0\n",
    "for i in range(i,n+1):\n",
    "    x[i] = x[i-1] + dx\n",
    "    \n",
    "for j in range(1,m+1):\n",
    "    y[j] = y[j-1]+ dy\n",
    "    \n",
    "dt = 1.0\n",
    "tw = 1.0\n",
    "alpha = 0.25\n",
    "csq = (dx*dx)/(dt*dt)    # 中间变量\n",
    "omega = 1.0/(3.0*alpha/(csq*dt) + 0.5)    # 松弛因子与扩散系数的关系\n",
    "mstep = 400\n",
    "\n",
    "w[0] = 4.0/9\n",
    "for i in range(1,5):\n",
    "    w[i] = 1.0/9\n",
    "for i in range(5,9):\n",
    "    w[i] = 1.0/36\n",
    "    \n",
    "for j in range(0,m+1):\n",
    "    for i in range(0,n+1):\n",
    "        for k in range(0,9):\n",
    "            f[k,i,j] = w[k]*rho[i,j]\n",
    "            if (i == 0):\n",
    "                f[k,i,j] = w[k]*tw\n",
    "                \n",
    "# main loop\n",
    "for kk in range(1,mstep+1):\n",
    "    for j in range(0,m+1):\n",
    "        for i in range(0,n+1):\n",
    "            sum = 0.0\n",
    "            for k in range(0,9):\n",
    "                sum = sum + f[k,i,j]\n",
    "            rho[i,j] = sum\n",
    "            \n",
    "    for j in range(0,m+1):\n",
    "        for i in range(0,n+1):\n",
    "            for k in range(0,9):\n",
    "                feq = w[k]*rho[i,j]\n",
    "                f[k,i,j] = omega*feq + (1.0-omega)*f[k,i,j]\n",
    "      \n",
    "    # streaming\n",
    "    for j in range(m,0,-1):\n",
    "        for i in range(0,n):\n",
    "            f[2,i,j] = f[2,i,j-1]\n",
    "            f[6,i,j] = f[6,i+1,j-1]\n",
    "            \n",
    "    for j in range(m,0,-1):\n",
    "        for i in range(n,0,-1):\n",
    "            f[1,i,j] = f[1,i-1,j]\n",
    "            f[5,i,j] = f[5,i-1,j-1]\n",
    "            \n",
    "    for j in range(0,m):\n",
    "        for i in range(n,0,-1):\n",
    "            f[4,i,j] = f[4,i,j+1]\n",
    "            f[8,i,j] = f[8,i-1,j+1]\n",
    "            \n",
    "    for j in range(0,m):\n",
    "        for i in range(0,n):\n",
    "            f[3,i,j] = f[3,i+1,j]\n",
    "            f[7,i,j] = f[7,i+1,j+1]\n",
    "            \n",
    "    # boundary condition\n",
    "    for j in range(0,m+1):\n",
    "        f[1,0,j] = w[1]*tw + w[3]*tw - f[3,0,j]\n",
    "        f[5,0,j] = w[5]*tw + w[7]*tw - f[7,0,j]\n",
    "        f[8,0,j] = w[8]*tw + w[6]*tw - f[6,0,j]\n",
    "        f[3,n,j] = -f[1,n,j]\n",
    "        f[6,n,j] = -f[8,n,j]\n",
    "        f[7,n,j] = -f[5,n,j]\n",
    "        \n",
    "    for i in range(0,n+1):\n",
    "        f[4,n,j] = -f[2,n,j]\n",
    "        f[7,n,j] = -f[5,n,j]\n",
    "        f[8,n,j] = -f[6,n,j]\n",
    "        f[1,i,0] = f[1,i,1]\n",
    "        f[2,i,0] = f[2,i,1]\n",
    "        f[3,i,0] = f[3,i,1]\n",
    "        f[4,i,0] = f[4,i,1]\n",
    "        f[5,i,0] = f[5,i,1]\n",
    "        f[6,i,0] = f[6,i,1]\n",
    "        f[7,i,0] = f[7,i,1]\n",
    "        f[8,i,0] = f[8,i,1]\n",
    "        \n",
    "    for j in range(0,m+1):\n",
    "        for i in range(0,n+1):\n",
    "            sum = 0.0\n",
    "            for k in range(0,9):\n",
    "                sum = sum + f[k,i,j]\n",
    "            rho[i,j] = sum"
   ]
  },
  {
   "cell_type": "code",
   "execution_count": 29,
   "metadata": {},
   "outputs": [
    {
     "data": {
      "image/png": "[encoded data removed]",
      "text/plain": [
       "<matplotlib.figure.Figure at 0x11b397550>"
      ]
     },
     "metadata": {},
     "output_type": "display_data"
    }
   ],
   "source": [
    "# plot 2D temperature distribution\n",
    "plt.imshow(rho, interpolation='nearest')\n",
    "plt.show()"
   ]
  }
 ],
 "metadata": {
  "kernelspec": {
   "display_name": "Python 3",
   "language": "python",
   "name": "python3"
  },
  "language_info": {
   "codemirror_mode": {
    "name": "ipython",
    "version": 3
   },
   "file_extension": ".py",
   "mimetype": "text/x-python",
   "name": "python",
   "nbconvert_exporter": "python",
   "pygments_lexer": "ipython3",
   "version": "3.6.5"
  }
 },
 "nbformat": 4,
 "nbformat_minor": 2
}
