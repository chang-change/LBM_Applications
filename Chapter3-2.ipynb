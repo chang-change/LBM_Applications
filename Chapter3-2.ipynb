{
 "cells": [
  {
   "attachments": {
    "A.1.3.jpg": {
     "image/jpeg": "[encoded data removed]"
    }
   },
   "cell_type": "markdown",
   "metadata": {},
   "source": [
    "# 问题\n",
    "\n",
    "二维正方形平板中，板的初始温度为0，时间$t >= 0$时，$x=0$处的边界受高温，温度为1，其他边界条件不变。域的长度为100，确定$t=400$时，板内的温度分布，并比较LBM与FDM方法的结果。其中，热扩散系数为0.25，格子大小$xl=yl=1.0$。\n",
    "\n",
    "![A.1.3.jpg](attachment:A.1.3.jpg)"
   ]
  },
  {
   "cell_type": "markdown",
   "metadata": {},
   "source": [
    "# A.1.3 The LBM Code (D2Q4)"
   ]
  },
  {
   "cell_type": "code",
   "execution_count": 5,
   "metadata": {},
   "outputs": [],
   "source": [
    "# LBM Code for 2-D, diffusion problem, D2Q4\n",
    "\n",
    "import numpy as np\n",
    "import matplotlib.pyplot as plt\n",
    "% matplotlib inline\n",
    "\n",
    "\n",
    "n = 100\n",
    "m = 100\n",
    "f1 = np.zeros((n+1,m+1),dtype=float)\n",
    "f2 = np.zeros((n+1,m+1),dtype=float)\n",
    "f3 = np.zeros((n+1,m+1),dtype=float)\n",
    "f4 = np.zeros((n+1,m+1),dtype=float)\n",
    "\n",
    "rho = np.zeros((n+1,m+1),dtype=float)\n",
    "x = np.zeros(n+1,dtype=float)\n",
    "y = np.zeros(m+1,dtype=float)\n",
    "\n",
    "dx = 1.0\n",
    "dy = 1.0\n",
    "dt = 1.0\n",
    "x[0] = 0.0\n",
    "y[0] = 0.0\n",
    "\n",
    "for i in range(1,n+1):\n",
    "    x[i] = x[i-1] + dx\n",
    "    \n",
    "for i in range(1,m+1):\n",
    "    y[i] = y[i-1] + dy\n",
    "    \n",
    "csq = dx*dx/(dt*dt)   # problem\n",
    "alpha = 0.25\n",
    "omega = 1.0/(2.*alpha/(dt*csq) + 0.5)\n",
    "mstep = 400\n",
    "\n",
    "# initial values of the dependent variable\n",
    "for j in range(0,m+1):\n",
    "    for i in range(0,n+1):\n",
    "        rho[i,j] = 0.0\n",
    "        \n",
    "for j in range(0,m+1):\n",
    "    for i in range(0,n+1):\n",
    "        f1[i,j] = 0.25*rho[i,j]\n",
    "        f2[i,j] = 0.25*rho[i,j]\n",
    "        f3[i,j] = 0.25*rho[i,j]\n",
    "        f4[i,j] = 0.25*rho[i,j]\n",
    "        \n",
    "# main loop\n",
    "for k in range(1,mstep+1):\n",
    "    # collision process:\n",
    "    for j in range(0,m+1):\n",
    "        for i in range(0,n+1):\n",
    "            feq = 0.25*rho[i,j]\n",
    "            f1[i,j] = omega*feq + (1.-omega)*f1[i,j]\n",
    "            f2[i,j] = omega*feq + (1.-omega)*f2[i,j]\n",
    "            f3[i,j] = omega*feq + (1.-omega)*f3[i,j]\n",
    "            f4[i,j] = omega*feq + (1.-omega)*f4[i,j]\n",
    "            \n",
    "    # streaming process\n",
    "    for j in range(0,m+1):\n",
    "        for i in range(1,n+1):\n",
    "            f1[n-i,j] = f1[n-i-1,j]\n",
    "            f2[i-1,j] = f2[i,j]\n",
    "            \n",
    "    for i in range(0,n+1):\n",
    "        for j in range(1,m+1):\n",
    "            f3[i,m-j] = f3[i,m-j-1]\n",
    "            f4[i,j-1] = f4[i,j]\n",
    "            \n",
    "    # boundary condition\n",
    "    for j in range(1,m+1):\n",
    "        f1[0,j] = 0.5 - f2[0,j]\n",
    "        f3[0,j] = 0.5 - f4[0,j]\n",
    "        f1[n,j] = f1[n-1,j]\n",
    "        f2[n,j] = f2[n-1,j]\n",
    "        f3[n,j] = f3[n-1,j]\n",
    "        f4[n,j] = f4[n-1,j]\n",
    "        \n",
    "    for i in range(1,n+1):\n",
    "        f1[i,m] = 0.0\n",
    "        f2[i,m] = 0.0\n",
    "        f3[i,m] = 0.0\n",
    "        f4[i,m] = 0.0\n",
    "        f1[i,0] = f1[i,1]\n",
    "        f2[i,0] = f2[i,1]\n",
    "        f3[i,0] = f3[i,1]\n",
    "        f4[i,0] = f4[i,1]\n",
    "        \n",
    "    for j in range(0,m+1):\n",
    "        for i in range(0,n+1):\n",
    "            rho[i,j] = f1[i,j] + f2[i,j] + f3[i,j] +f4[i,j]            \n",
    "# end of the main loop"
   ]
  },
  {
   "cell_type": "code",
   "execution_count": 7,
   "metadata": {},
   "outputs": [
    {
     "data": {
      "image/png": "[encoded data removed]",
      "text/plain": [
       "<matplotlib.figure.Figure at 0x10f718048>"
      ]
     },
     "metadata": {},
     "output_type": "display_data"
    }
   ],
   "source": [
    "# plot 2D temperature distribution\n",
    "plt.imshow(rho, interpolation='nearest')\n",
    "plt.show()"
   ]
  }
 ],
 "metadata": {
  "kernelspec": {
   "display_name": "Python 3",
   "language": "python",
   "name": "python3"
  },
  "language_info": {
   "codemirror_mode": {
    "name": "ipython",
    "version": 3
   },
   "file_extension": ".py",
   "mimetype": "text/x-python",
   "name": "python",
   "nbconvert_exporter": "python",
   "pygments_lexer": "ipython3",
   "version": "3.6.4"
  }
 },
 "nbformat": 4,
 "nbformat_minor": 2
}
