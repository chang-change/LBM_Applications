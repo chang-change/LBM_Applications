{
 "cells": [
  {
   "cell_type": "markdown",
   "metadata": {},
   "source": [
    "# A.2.1 The LBM Code (D1Q2)\n",
    "## LBM Function\n",
    "$$f_k\\left( x+\\Delta x, t+ \\Delta t \\right) = f_k(x,t)[1-\\omega] + \\omega f_k^{eq}(x,t)$$\n",
    "$$f_k^{eq} = w_k \\phi(x,t) \\left[ 1 + \\frac{c_k \\vec{u}}{c_s^2} \\right]$$\n",
    "$$\\vec{u} = u \\mathbf{i} + v \\mathbf{j}$$"
   ]
  },
  {
   "cell_type": "code",
   "execution_count": 2,
   "metadata": {},
   "outputs": [],
   "source": [
    "# LBM for 1-D advection-diffusion\n",
    "\n",
    "import numpy as np\n",
    "import matplotlib.pyplot as plt\n",
    "% matplotlib inline\n",
    "\n",
    "m = 100    # m is the number of lattice nodes\n",
    "f0 = np.zeros(m+1,dtype=float)\n",
    "f1 = np.zeros(m+1,dtype=float)\n",
    "f2 = np.zeros(m+1,dtype=float)\n",
    "rho = np.zeros(m+1,dtype=float)\n",
    "x = np.zeros(m+1,dtype=float)\n",
    "\n",
    "u = 0.1\n",
    "dt = 1.0\n",
    "dx = 1.0\n",
    "x[0] = 0.0\n",
    "for i in range(1,m+1):\n",
    "    x[i] = x[i-1] + dx\n",
    "    \n",
    "ck = dx/dt\n",
    "csq = ck*ck\n",
    "alpha = 0.25\n",
    "omega = 1.0/(alpha/(dt*csq) + 0.5)\n",
    "mstep = 400    # the total number of time steps\n",
    "twall = 1.0    # Left hand wall temperature\n",
    "\n",
    "# main loop\n",
    "for kk in range(1,mstep+1):\n",
    "    # collision process:\n",
    "    for i in range(0,m+1):\n",
    "        rho[i] = f1[i] + f2[i]\n",
    "        feq1 = 0.5*rho[i]*(1.0 + u/ck)    # extra term added to simulate advection\n",
    "        feq2 = 0.5*rho[i]*(1.0 - u/ck)     # w1 = w2 = 0.5，和公式不对应，还不明白为什么\n",
    "        f1[i] = (1.0 - omega) * f1[i] + omega*feq1\n",
    "        f2[i] = (1.0 - omega) * f2[i] + omega*feq2\n",
    "        \n",
    "    # streaming process:\n",
    "    for i in range(1,m):\n",
    "        f1[m-i] = f1[m-i-1]    # f1 streaming\n",
    "        f2[i-1] = f2[i]    # f2 streaming\n",
    "        \n",
    "    # Boundary condition\n",
    "    f1[0] = twall - f2[0]    # constant temperature boundary condition, x = 0\n",
    "    f1[m] = f1[m-1]    # adiabatic boundary condition, x = L\n",
    "    f2[m] = f2[m-1]    # adiabatic boundary condition, x = L\n",
    "# end of main loop"
   ]
  },
  {
   "cell_type": "code",
   "execution_count": 4,
   "metadata": {},
   "outputs": [
    {
     "data": {
      "text/plain": [
       "[<matplotlib.lines.Line2D at 0x1a86be6d1d0>]"
      ]
     },
     "execution_count": 4,
     "metadata": {},
     "output_type": "execute_result"
    },
    {
     "data": {
      "image/png": "[encoded data removed]",
      "text/plain": [
       "<Figure size 432x288 with 1 Axes>"
      ]
     },
     "metadata": {},
     "output_type": "display_data"
    }
   ],
   "source": [
    "plt.plot(x,rho)"
   ]
  },
  {
   "cell_type": "markdown",
   "metadata": {},
   "source": [
    "# A.2.2 The FDM Code (1-D)"
   ]
  },
  {
   "cell_type": "code",
   "execution_count": 12,
   "metadata": {},
   "outputs": [],
   "source": [
    "# Finite difference code for 1-D advection-deffusion problem\n",
    "\n",
    "n = 200\n",
    "f0 = np.zeros(n+1,dtype=float)\n",
    "f = np.zeros(n+1,dtype=float)\n",
    "x = np.zeros(n+1,dtype=float)\n",
    "\n",
    "dx = 0.5\n",
    "dt = 0.25\n",
    "u = 0.1\n",
    "alpha = 0.25\n",
    "mstep = 1600\n",
    "\n",
    "for i in range(1,n+1):\n",
    "    x[i] = x[i-1] + dx\n",
    "\n",
    "f0[0] = 1.0\n",
    "f[0] = 1.0\n",
    "\n",
    "for kk in range(1, mstep+1):\n",
    "    for i in range(1,n):\n",
    "        adv = dt*u*(f0[i] - f0[i-1])/dx\n",
    "        f[i] = f0[i] + dt*alpha*(f0[i+1] - 2.0*f0[i] + f0[i-1])/(dx*dx) - adv\n",
    "        \n",
    "    for i in range(1,n):\n",
    "        f0[i] = f[i]"
   ]
  },
  {
   "cell_type": "code",
   "execution_count": 13,
   "metadata": {},
   "outputs": [
    {
     "data": {
      "text/plain": [
       "[<matplotlib.lines.Line2D at 0x1a86c327d30>]"
      ]
     },
     "execution_count": 13,
     "metadata": {},
     "output_type": "execute_result"
    },
    {
     "data": {
      "image/png": "[encoded data removed]",
      "text/plain": [
       "<Figure size 432x288 with 1 Axes>"
      ]
     },
     "metadata": {},
     "output_type": "display_data"
    }
   ],
   "source": [
    "plt.plot(x,f0)"
   ]
  }
 ],
 "metadata": {
  "kernelspec": {
   "display_name": "Python 3",
   "language": "python",
   "name": "python3"
  },
  "language_info": {
   "codemirror_mode": {
    "name": "ipython",
    "version": 3
   },
   "file_extension": ".py",
   "mimetype": "text/x-python",
   "name": "python",
   "nbconvert_exporter": "python",
   "pygments_lexer": "ipython3",
   "version": "3.6.5"
  }
 },
 "nbformat": 4,
 "nbformat_minor": 2
}
