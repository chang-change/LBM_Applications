{
 "cells": [
  {
   "cell_type": "markdown",
   "metadata": {},
   "source": [
    "# 恒温无限大板中的热扩散\n",
    "\n",
    "## 问题\n",
    "假设板的初始温度$T=0$,当时间 $t>= 0$ 时，板的左侧面收到高温$T=1.0$，板长为100。设$\\alpha =0.25$，计算$t=200$时，板中的温度分布，并比较LBM和FDM两种方法的结果。"
   ]
  },
  {
   "cell_type": "markdown",
   "metadata": {},
   "source": [
    "## LBM"
   ]
  },
  {
   "cell_type": "code",
   "execution_count": 17,
   "metadata": {},
   "outputs": [],
   "source": [
    "# LBM Code for 1-D, diffusion problem, D1Q2\n",
    "\n",
    "import numpy as np\n",
    "import matplotlib.pyplot as pl\n",
    "% matplotlib inline\n",
    "\n",
    "m = 100    # m is the number of lattice nodes\n",
    "\n",
    "f1 = np.zeros(m+1,dtype=float)\n",
    "f2 = np.zeros(m+1,dtype=float)\n",
    "rho = np.zeros(m+1,dtype=float)\n",
    "feq = np.zeros(m+1,dtype=float)\n",
    "x = np.zeros(m+1,dtype=float)\n",
    "\n",
    "dt = 1.0\n",
    "dx = 1.0\n",
    "x[0] = 0.0\n",
    "\n",
    "for i in range(1,m+1):\n",
    "    x[i] = x[i-1] + dx\n",
    "\n",
    "csq = dx*dx/(dt*dt)\n",
    "alpha = 0.25\n",
    "omega = 1.0/(alpha/(dt*csq)+0.5)\n",
    "mstep = 200    # The total number of time steps\n",
    "twall = 1.0    # Left hand wall temperature\n",
    "\n",
    "# Initial condition\n",
    "for i in range(0,m+1):\n",
    "    rho[i] = 0.0    # Initial value of the domain temperature\n",
    "    f1[i] = 0.5 * rho[i]\n",
    "    f2[i] = 0.5 * rho[i]\n",
    "\n",
    "# main loop\n",
    "for kk in range(1,mstep+1):\n",
    "    # collision process:\n",
    "    for i in range(0,m+1):\n",
    "        rho[i] = f1[i] + f2[i]\n",
    "        feq[i] = 0.5 * rho[i]\n",
    "        \n",
    "        # since k1 = k2 =0.5, then feq1 = feq2 = feq\n",
    "        f1[i] = (1.0 - omega)*f1[i] + omega*feq[i]\n",
    "        f2[i] = (1.0 - omega)*f2[i] + omega*feq[i]\n",
    "    \n",
    "    # streaming process:\n",
    "    for i in range(1,m):\n",
    "        f1[m-i] = f1[m-i-1]    # f1 streaming\n",
    "        f2[i-1] = f2[i]    # f2 streaming\n",
    "        \n",
    "    # Boundary condition\n",
    "    f1[0] = twall - f2[0]    # constant temperature boundary condition, x = 0\n",
    "    f1[m] = f1[m-1]    # adiabatic(绝热的)  boundary condition, x = L\n",
    "    f2[m] = f2[m-1]    # adiabatic boundary condition, x = L\n",
    "    \n",
    "# end of the main loop\n",
    "\n",
    "#for i in range(0,m+1):\n",
    "#    print(x[i],\" \",rho[i])"
   ]
  },
  {
   "cell_type": "code",
   "execution_count": 18,
   "metadata": {},
   "outputs": [
    {
     "data": {
      "text/plain": [
       "[<matplotlib.lines.Line2D at 0x14ea1705358>]"
      ]
     },
     "execution_count": 18,
     "metadata": {},
     "output_type": "execute_result"
    },
    {
     "data": {
      "image/png": "[encoded data removed]",
      "text/plain": [
       "<matplotlib.figure.Figure at 0x14ea125ebe0>"
      ]
     },
     "metadata": {},
     "output_type": "display_data"
    }
   ],
   "source": [
    "pl.plot(x,rho)"
   ]
  },
  {
   "cell_type": "markdown",
   "metadata": {},
   "source": [
    "## FDM\n",
    "\n",
    "显示格式的差分方程为Eqs. 3.8，如下所示\n",
    "$$T_i^{n+1} = T_i^n + \\frac{\\alpha \\Delta t}{\\Delta x^2}(T_{i+1}^n - 2 T_i^n + T_{i-1}^n)$$"
   ]
  },
  {
   "cell_type": "code",
   "execution_count": 11,
   "metadata": {},
   "outputs": [
    {
     "data": {
      "text/plain": [
       "[<matplotlib.lines.Line2D at 0x14ea0aadf60>]"
      ]
     },
     "execution_count": 11,
     "metadata": {},
     "output_type": "execute_result"
    },
    {
     "data": {
      "image/png": "[encoded data removed]",
      "text/plain": [
       "<matplotlib.figure.Figure at 0x14e9febd358>"
      ]
     },
     "metadata": {},
     "output_type": "display_data"
    }
   ],
   "source": [
    "# Finite Difference Code for 1-D diffusion problems\n",
    "\n",
    "import numpy as np\n",
    "import matplotlib.pyplot as pl\n",
    "% matplotlib inline\n",
    "\n",
    "m = 100    # m is the number of lattice nodes\n",
    "fo = np.zeros(m+1,dtype=float)\n",
    "f = np.zeros(m+1,dtype=float)\n",
    "\n",
    "dx = 1.0\n",
    "dt = 0.5\n",
    "alpha = 0.25\n",
    "mstep = 400\n",
    "    \n",
    "fo[0] = 1.0    # initial condition for old value of f at x=0\n",
    "f[0] = 1.0    # initial condition for updated value of f at x=0\n",
    "fo[m] = fo[m-1]    # initial condition for old value of f at x=L\n",
    "f[m] = f[m-1]    # initial condition for uodated value of f at x=L\n",
    "\n",
    "for kk in range(1,mstep+1):\n",
    "    # main loop\n",
    "    for i in range(1,m):\n",
    "        f[i] = fo[i] + dt*alpha*(fo[i+1]-2.0*fo[i]+fo[i-1])/(dx*dx)    # Eqs. 3.8\n",
    "    \n",
    "    for i in range(1,m):\n",
    "        fo[i] = f[i]    # updating\n",
    "    \n",
    "    fo[m] = f[m-1]    # updating the boundary condition at x=L\n",
    "    # end of the main loop\n",
    "    \n",
    "x_fdm  = np.zeros(m+1,dtype=float)\n",
    "\n",
    "for i in range(0,m+1):\n",
    "    # print(x_fdm[i],\" \",f[i])\n",
    "    if i < m:\n",
    "        x_fdm[i+1] = x_fdm[i] + dx\n",
    "        \n",
    "pl.plot(x_fdm,f)"
   ]
  },
  {
   "cell_type": "markdown",
   "metadata": {},
   "source": [
    "## 结果对比"
   ]
  },
  {
   "cell_type": "code",
   "execution_count": 24,
   "metadata": {},
   "outputs": [
    {
     "data": {
      "text/plain": [
       "<function matplotlib.pyplot.show>"
      ]
     },
     "execution_count": 24,
     "metadata": {},
     "output_type": "execute_result"
    },
    {
     "data": {
      "image/png": "[encoded data removed]",
      "text/plain": [
       "<matplotlib.figure.Figure at 0x14ea13102e8>"
      ]
     },
     "metadata": {},
     "output_type": "display_data"
    }
   ],
   "source": [
    "pl.plot(x,rho,'bo-',label='LBM')\n",
    "pl.plot(x_fdm,f,'rD-',label='FDM')\n",
    "pl.xlabel('x')  \n",
    "pl.ylabel('T') \n",
    "pl.legend()\n",
    "pl.xlim(0,30)\n",
    "pl.ylim(0,1)\n",
    "pl.show "
   ]
  }
 ],
 "metadata": {
  "kernelspec": {
   "display_name": "Python 3",
   "language": "python",
   "name": "python3"
  },
  "language_info": {
   "codemirror_mode": {
    "name": "ipython",
    "version": 3
   },
   "file_extension": ".py",
   "mimetype": "text/x-python",
   "name": "python",
   "nbconvert_exporter": "python",
   "pygments_lexer": "ipython3",
   "version": "3.6.3"
  }
 },
 "nbformat": 4,
 "nbformat_minor": 2
}
